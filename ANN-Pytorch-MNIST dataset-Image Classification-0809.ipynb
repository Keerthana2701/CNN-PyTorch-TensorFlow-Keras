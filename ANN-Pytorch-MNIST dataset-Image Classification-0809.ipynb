{
 "cells": [
  {
   "cell_type": "markdown",
   "metadata": {},
   "source": [
    "MNIST is a dataset of handwritten digits, containing 60,000 training images and 10,000 testing images. All images are in grayscale, each with a size of 28x28. In this section, we will build a Feed Forward Neural Network to classify an input image of handrwitten digits from 0-9."
   ]
  },
  {
   "cell_type": "code",
   "execution_count": 1,
   "metadata": {},
   "outputs": [],
   "source": [
    "import torch\n",
    "import torch.nn as nn # in pytorch github we have torch folder and inside we have nn folder. all the files inside nn are taken here\n",
    "import torchvision.datasets as datasets  # datasets used in neural networks\n",
    "import torchvision.transforms as transforms # pytorch- vision -trasforms folder in pytorch github"
   ]
  },
  {
   "cell_type": "code",
   "execution_count": 2,
   "metadata": {},
   "outputs": [],
   "source": [
    "input_size = 784        #Number of input neurons (image pixels)\n",
    "hidden_size = 400       #Number of hidden neurons (i/p+o/p)/2\n",
    "out_size = 10           #Number of classes (0-9) \n",
    "epochs = 10            #How many times we pass our entire dataset into our network \n",
    "batch_size = 100        #Input size of the data during one iteration (100 images fed into neural network for every iteration)\n",
    "learning_rate = 0.001   #How fast we are learning"
   ]
  },
  {
   "cell_type": "code",
   "execution_count": 3,
   "metadata": {},
   "outputs": [
    {
     "name": "stdout",
     "output_type": "stream",
     "text": [
      "Downloading http://yann.lecun.com/exdb/mnist/train-images-idx3-ubyte.gz to ./data\\MNIST\\raw\\train-images-idx3-ubyte.gz\n"
     ]
    },
    {
     "data": {
      "application/vnd.jupyter.widget-view+json": {
       "model_id": "ed9500cb6a1548a6aa74261d13ab9dd5",
       "version_major": 2,
       "version_minor": 0
      },
      "text/plain": [
       "HBox(children=(FloatProgress(value=1.0, bar_style='info', max=1.0), HTML(value='')))"
      ]
     },
     "metadata": {},
     "output_type": "display_data"
    },
    {
     "name": "stdout",
     "output_type": "stream",
     "text": [
      "Extracting ./data\\MNIST\\raw\\train-images-idx3-ubyte.gz to ./data\\MNIST\\raw\n",
      "Downloading http://yann.lecun.com/exdb/mnist/train-labels-idx1-ubyte.gz to ./data\\MNIST\\raw\\train-labels-idx1-ubyte.gz\n"
     ]
    },
    {
     "data": {
      "application/vnd.jupyter.widget-view+json": {
       "model_id": "09ae45fd3fa8427db66bf5da4bdc38f8",
       "version_major": 2,
       "version_minor": 0
      },
      "text/plain": [
       "HBox(children=(FloatProgress(value=1.0, bar_style='info', max=1.0), HTML(value='')))"
      ]
     },
     "metadata": {},
     "output_type": "display_data"
    },
    {
     "name": "stdout",
     "output_type": "stream",
     "text": [
      "Extracting ./data\\MNIST\\raw\\train-labels-idx1-ubyte.gz to ./data\\MNIST\\raw\n",
      "Downloading http://yann.lecun.com/exdb/mnist/t10k-images-idx3-ubyte.gz to ./data\\MNIST\\raw\\t10k-images-idx3-ubyte.gz\n",
      "\n",
      "\n"
     ]
    },
    {
     "data": {
      "application/vnd.jupyter.widget-view+json": {
       "model_id": "6bf59f38d49b42f18cab83a2ea6ac0a8",
       "version_major": 2,
       "version_minor": 0
      },
      "text/plain": [
       "HBox(children=(FloatProgress(value=1.0, bar_style='info', max=1.0), HTML(value='')))"
      ]
     },
     "metadata": {},
     "output_type": "display_data"
    },
    {
     "name": "stdout",
     "output_type": "stream",
     "text": [
      "Extracting ./data\\MNIST\\raw\\t10k-images-idx3-ubyte.gz to ./data\\MNIST\\raw\n",
      "Downloading http://yann.lecun.com/exdb/mnist/t10k-labels-idx1-ubyte.gz to ./data\\MNIST\\raw\\t10k-labels-idx1-ubyte.gz\n"
     ]
    },
    {
     "data": {
      "application/vnd.jupyter.widget-view+json": {
       "model_id": "aeb3870c5d3b47848dc857151a38499b",
       "version_major": 2,
       "version_minor": 0
      },
      "text/plain": [
       "HBox(children=(FloatProgress(value=1.0, bar_style='info', max=1.0), HTML(value='')))"
      ]
     },
     "metadata": {},
     "output_type": "display_data"
    },
    {
     "name": "stdout",
     "output_type": "stream",
     "text": [
      "Extracting ./data\\MNIST\\raw\\t10k-labels-idx1-ubyte.gz to ./data\\MNIST\\raw\n",
      "Processing...\n"
     ]
    },
    {
     "name": "stderr",
     "output_type": "stream",
     "text": [
      "C:\\Users\\Vikee\\anaconda3\\lib\\site-packages\\torchvision\\datasets\\mnist.py:469: UserWarning: The given NumPy array is not writeable, and PyTorch does not support non-writeable tensors. This means you can write to the underlying (supposedly non-writeable) NumPy array using the tensor. You may want to copy the array to protect its data or make it writeable before converting it to a tensor. This type of warning will be suppressed for the rest of this program. (Triggered internally at  ..\\torch\\csrc\\utils\\tensor_numpy.cpp:141.)\n",
      "  return torch.from_numpy(parsed.astype(m[2], copy=False)).view(*s)\n"
     ]
    },
    {
     "name": "stdout",
     "output_type": "stream",
     "text": [
      "Done!\n"
     ]
    }
   ],
   "source": [
    "train_dataset = datasets.MNIST(root='./data',  # path where images will be saved\n",
    "                           train=True,         # train dataset\n",
    "                           transform=transforms.ToTensor(),  # what we do on dataset. we transform the images to tensors\n",
    "                           download=True)                   # downloads the dataset\n",
    "\n",
    "test_dataset = datasets.MNIST(root='./data',\n",
    "                           train=False,\n",
    "                           transform=transforms.ToTensor())"
   ]
  },
  {
   "cell_type": "code",
   "execution_count": 4,
   "metadata": {},
   "outputs": [],
   "source": [
    "train_loader = torch.utils.data.DataLoader(dataset=train_dataset,      # dataloader for train data\n",
    "                                          batch_size=batch_size,\n",
    "                                          shuffle=True)                 \n",
    "\n",
    "test_loader = torch.utils.data.DataLoader(dataset=test_dataset,              # dataloader for test data\n",
    "                                          batch_size=batch_size,\n",
    "                                          shuffle=False)     # false because not interested in order, just testing here"
   ]
  },
  {
   "cell_type": "markdown",
   "metadata": {},
   "source": [
    "## Building the Network"
   ]
  },
  {
   "cell_type": "markdown",
   "metadata": {},
   "source": [
    "![alt text](bb.png \"Title\")"
   ]
  },
  {
   "cell_type": "code",
   "execution_count": 18,
   "metadata": {},
   "outputs": [],
   "source": [
    "class Net(nn.Module):\n",
    "    def __init__(self, input_size, hidden_size, out_size):\n",
    "        super(Net, self).__init__()                    \n",
    "        self.fc1 = nn.Linear(input_size, hidden_size)   # nn.Linear to create a layer with i/p and o/p size #First Layer                           \n",
    "        self.fc2 = nn.Linear(hidden_size, hidden_size)      #Second Layer Activation hidden layer as i./p and another hidden layer as o/p\n",
    "        self.fc3 = nn.Linear(hidden_size, out_size)   # third layer with input as hidden layer and o/p as output\n",
    "        self.relu = nn.ReLU()\n",
    "\n",
    "\n",
    "    def forward(self, x):    # forward propagation\n",
    "        out = self.fc1(x)\n",
    "        out = self.relu(out)  # use relu activation function for hidden layers\n",
    "        out = self.fc2(out)\n",
    "        out = self.relu(out)\n",
    "        out = self.fc3(out)\n",
    "        return out"
   ]
  },
  {
   "cell_type": "code",
   "execution_count": 19,
   "metadata": {},
   "outputs": [],
   "source": [
    "# Create the network (an object of the Net class)\n",
    "\n",
    "net = Net(input_size, hidden_size, out_size)\n",
    "CUDA = torch.cuda.is_available()   # To switch between cpu and gpu. if true, it will be passed to gpu.\n",
    "if CUDA:\n",
    "    net = net.cuda()  # gpu"
   ]
  },
  {
   "cell_type": "code",
   "execution_count": 20,
   "metadata": {},
   "outputs": [],
   "source": [
    "#The loss function. The Cross Entropy loss comes along with Softmax in pytorch. Therefore, no need to specify Softmax as well\n",
    "\n",
    "criterion = nn.CrossEntropyLoss()\n"
   ]
  },
  {
   "cell_type": "code",
   "execution_count": 21,
   "metadata": {},
   "outputs": [],
   "source": [
    "# Adam Optimizer\n",
    "\n",
    "optimizer = torch.optim.Adam(net.parameters(), lr=learning_rate)"
   ]
  },
  {
   "cell_type": "code",
   "execution_count": 22,
   "metadata": {},
   "outputs": [
    {
     "data": {
      "text/plain": [
       "<generator object Module.parameters at 0x0000025ACEC266C8>"
      ]
     },
     "execution_count": 22,
     "metadata": {},
     "output_type": "execute_result"
    }
   ],
   "source": [
    "net.parameters()  "
   ]
  },
  {
   "cell_type": "code",
   "execution_count": 1,
   "metadata": {},
   "outputs": [],
   "source": [
    "#list(net.parameters()) # array for each layers"
   ]
  },
  {
   "cell_type": "code",
   "execution_count": 24,
   "metadata": {},
   "outputs": [
    {
     "data": {
      "text/plain": [
       "<bound method Module.parameters of Net(\n",
       "  (fc1): Linear(in_features=784, out_features=400, bias=True)\n",
       "  (fc2): Linear(in_features=400, out_features=400, bias=True)\n",
       "  (fc3): Linear(in_features=400, out_features=10, bias=True)\n",
       "  (relu): ReLU()\n",
       ")>"
      ]
     },
     "execution_count": 24,
     "metadata": {},
     "output_type": "execute_result"
    }
   ],
   "source": [
    "net.parameters # to see the layers. all layers have bias by default"
   ]
  },
  {
   "cell_type": "markdown",
   "metadata": {},
   "source": [
    "## Visualise the train loader and reshaping the image"
   ]
  },
  {
   "cell_type": "code",
   "execution_count": 3,
   "metadata": {},
   "outputs": [
    {
     "ename": "IndentationError",
     "evalue": "unexpected indent (<ipython-input-3-ea5d9363fa52>, line 2)",
     "output_type": "error",
     "traceback": [
      "\u001b[1;36m  File \u001b[1;32m\"<ipython-input-3-ea5d9363fa52>\"\u001b[1;36m, line \u001b[1;32m2\u001b[0m\n\u001b[1;33m    print(images.size())\u001b[0m\n\u001b[1;37m    ^\u001b[0m\n\u001b[1;31mIndentationError\u001b[0m\u001b[1;31m:\u001b[0m unexpected indent\n"
     ]
    }
   ],
   "source": [
    "for i,(images,labels) in enumerate(train_loader):\n",
    "    print(images.size())\n",
    "    images=images.view(-1,784)   # TO RESIZE\n",
    "    print(images.size()) \n",
    "    \n",
    "   # o/p:\n",
    "      torch.Size([100, 1, 28, 28])\n",
    "      torch.Size([100, 784])\n",
    "    torch.Size([100, 1, 28, 28])\n",
    "      torch.Size([100, 784])\n",
    "    torch.Size([100, 1, 28, 28])\n",
    "    torch.Size([100, 784])\n",
    "    torch.Size([100, 1, 28, 28])\n",
    "    torch.Size([100, 784])"
   ]
  },
  {
   "cell_type": "markdown",
   "metadata": {},
   "source": [
    "torch.Size([100, 1, 28, 28]) \n",
    "\n",
    "here 1 (channels)indicates gray scale image (if 3, RGB image) , 100 indicates the batch size, 28 is height and 28 is width of image\n",
    "\n",
    "after reshaping it becomes 100 times 784\n"
   ]
  },
  {
   "cell_type": "markdown",
   "metadata": {},
   "source": [
    "## Train the Network"
   ]
  },
  {
   "cell_type": "markdown",
   "metadata": {},
   "source": [
    "there is no direct training method in pytorch. we need to write it step by step\n"
   ]
  },
  {
   "cell_type": "code",
   "execution_count": 34,
   "metadata": {},
   "outputs": [
    {
     "name": "stdout",
     "output_type": "stream",
     "text": [
      "Epoch [1/10], Training Loss: 0.000, Training Accuracy: 99.000%\n",
      "Epoch [2/10], Training Loss: 0.000, Training Accuracy: 99.000%\n",
      "Epoch [3/10], Training Loss: 0.000, Training Accuracy: 99.000%\n",
      "Epoch [4/10], Training Loss: 0.000, Training Accuracy: 99.000%\n",
      "Epoch [5/10], Training Loss: 0.000, Training Accuracy: 99.000%\n",
      "Epoch [6/10], Training Loss: 0.000, Training Accuracy: 99.000%\n",
      "Epoch [7/10], Training Loss: 0.000, Training Accuracy: 99.000%\n",
      "Epoch [8/10], Training Loss: 0.000, Training Accuracy: 99.000%\n",
      "Epoch [9/10], Training Loss: 0.000, Training Accuracy: 99.000%\n",
      "Epoch [10/10], Training Loss: 0.000, Training Accuracy: 99.000%\n",
      "DONE TRAINING!\n"
     ]
    }
   ],
   "source": [
    "correct_train = 0\n",
    "total_train = 0\n",
    "running_loss = 0\n",
    "for epoch in range(epochs):\n",
    "    \n",
    "  \n",
    "    for i, (images, labels) in enumerate(train_loader):   \n",
    "        #Flatten the image from size (batch,1,28,28) --> (100,1,28,28) where 1 represents the number of channels (grayscale-->1),\n",
    "        # to size (100,784) and wrap it in a variable\n",
    "        images = images.view(-1, 28*28) \n",
    "        \n",
    "        if CUDA:\n",
    "            images = images.cuda()\n",
    "            labels = labels.cuda()\n",
    "            \n",
    "        # w <-- w - lr * gradient -- we need to clear this gradient buffer. we don't want to accumulate gradients\n",
    "        optimizer.zero_grad() \n",
    "              \n",
    "        # Feed Forward.\n",
    "        outputs = net(images)   \n",
    "        \n",
    "        _, predicted = torch.max(outputs.data, 1)   # torch.max(data,1) find maximum value for each row and puts it in an array\n",
    "                                                    # here we use this predicted instead of output as in lsast application\n",
    "        total_train +=labels.size(0)   \n",
    "        if CUDA:\n",
    "            correct_train += (predicted.cpu() == labels.cpu()).sum()\n",
    "        else:\n",
    "            correct_train += (predicted == labels).sum() \n",
    "            \n",
    "        \n",
    "        \n",
    "        loss = criterion(outputs, labels)                 # Difference between the actual and predicted (loss function)\n",
    "        running_loss += loss.item()\n",
    "        \n",
    "        loss.backward()                                   # Backpropagation\n",
    "        optimizer.step()                                  # Update the weights\n",
    "        \n",
    "    print('Epoch [{}/{}], Training Loss: {:.3f}, Training Accuracy: {:.3f}%'.format\n",
    "          (epoch+1, epochs, running_loss//len(train_loader), (100*correct_train//total_train)))\n",
    "print(\"DONE TRAINING!\")"
   ]
  },
  {
   "cell_type": "markdown",
   "metadata": {},
   "source": [
    "## Test the Network"
   ]
  },
  {
   "cell_type": "markdown",
   "metadata": {},
   "source": [
    "for testing no weight,loss calculations needed\n",
    "ony forward feed"
   ]
  },
  {
   "cell_type": "code",
   "execution_count": 44,
   "metadata": {},
   "outputs": [
    {
     "name": "stdout",
     "output_type": "stream",
     "text": [
      "Test Accuracy : 98 %\n"
     ]
    }
   ],
   "source": [
    "correct = 0\n",
    "for images, labels in test_loader:\n",
    "    if CUDA:\n",
    "            images = images.cuda()\n",
    "            labels = labels.cuda()\n",
    "    images = images.view(-1, 28*28)\n",
    "    outputs = net(images)\n",
    "    _, predicted = torch.max(outputs.data, 1)\n",
    "    correct += (predicted == labels).sum().item()\n",
    "\n",
    "print('Test Accuracy : %d %%'%(100 * correct / len(test_dataset)))\n",
    "    \n",
    "        "
   ]
  },
  {
   "cell_type": "code",
   "execution_count": null,
   "metadata": {},
   "outputs": [],
   "source": []
  }
 ],
 "metadata": {
  "kernelspec": {
   "display_name": "Python 3",
   "language": "python",
   "name": "python3"
  },
  "language_info": {
   "codemirror_mode": {
    "name": "ipython",
    "version": 3
   },
   "file_extension": ".py",
   "mimetype": "text/x-python",
   "name": "python",
   "nbconvert_exporter": "python",
   "pygments_lexer": "ipython3",
   "version": "3.7.6"
  }
 },
 "nbformat": 4,
 "nbformat_minor": 4
}
