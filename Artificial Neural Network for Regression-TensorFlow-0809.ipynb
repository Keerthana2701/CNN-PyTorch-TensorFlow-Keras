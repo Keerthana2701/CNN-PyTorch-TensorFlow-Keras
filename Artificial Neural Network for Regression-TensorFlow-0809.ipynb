{
 "cells": [
  {
   "cell_type": "markdown",
   "metadata": {
    "colab_type": "text",
    "id": "3cbb7fRy-eyr"
   },
   "source": [
    "# Artificial Neural Network for Regression-TensorFlow"
   ]
  },
  {
   "cell_type": "markdown",
   "metadata": {},
   "source": [
    "TensorFlow includes an implementation of the Keras API (in the tf.keras module) with TensorFlow-specific enhancements.\n",
    "\n",
    "\n",
    "\n",
    "tf.keras is included with TensorFlow. You do not need to separately install Keras.\n",
    "\n",
    "\n",
    "\n",
    "\n",
    "Keras is a neural network library while TensorFlow is the open-source library\n",
    "\n",
    "\n",
    "\n",
    "Keras is a high-level neural networks library that is running on the top of TensorFlow, CNTK, and Theano. "
   ]
  },
  {
   "cell_type": "code",
   "execution_count": 1,
   "metadata": {},
   "outputs": [
    {
     "name": "stdout",
     "output_type": "stream",
     "text": [
      "Collecting tensorflow\n",
      "  Using cached tensorflow-2.3.0-cp37-cp37m-win_amd64.whl (342.5 MB)\n",
      "Processing c:\\users\\vikee\\appdata\\local\\pip\\cache\\wheels\\3f\\e3\\ec\\8a8336ff196023622fbcb36de0c5a5c218cbb24111d1d4c7f2\\termcolor-1.1.0-py3-none-any.whl\n",
      "Requirement already satisfied: wheel>=0.26 in c:\\users\\vikee\\anaconda3\\lib\\site-packages (from tensorflow) (0.34.2)\n",
      "Collecting keras-preprocessing<1.2,>=1.1.1\n",
      "  Using cached Keras_Preprocessing-1.1.2-py2.py3-none-any.whl (42 kB)\n",
      "Requirement already satisfied: six>=1.12.0 in c:\\users\\vikee\\anaconda3\\lib\\site-packages (from tensorflow) (1.14.0)\n",
      "Collecting tensorboard<3,>=2.3.0\n",
      "  Using cached tensorboard-2.3.0-py3-none-any.whl (6.8 MB)\n",
      "Collecting opt-einsum>=2.3.2\n",
      "  Using cached opt_einsum-3.3.0-py3-none-any.whl (65 kB)\n",
      "Requirement already satisfied: wrapt>=1.11.1 in c:\\users\\vikee\\anaconda3\\lib\\site-packages (from tensorflow) (1.11.2)\n",
      "Requirement already satisfied: gast==0.3.3 in c:\\users\\vikee\\anaconda3\\lib\\site-packages (from tensorflow) (0.3.3)\n",
      "Collecting tensorflow-estimator<2.4.0,>=2.3.0\n",
      "  Using cached tensorflow_estimator-2.3.0-py2.py3-none-any.whl (459 kB)\n",
      "Requirement already satisfied: scipy==1.4.1 in c:\\users\\vikee\\anaconda3\\lib\\site-packages (from tensorflow) (1.4.1)\n",
      "Processing c:\\users\\vikee\\appdata\\local\\pip\\cache\\wheels\\cc\\af\\1a\\498a24d0730ef484019e007bb9e8cef3ac00311a672c049a3e\\absl_py-0.9.0-py3-none-any.whl\n",
      "Requirement already satisfied: h5py<2.11.0,>=2.10.0 in c:\\users\\vikee\\anaconda3\\lib\\site-packages (from tensorflow) (2.10.0)\n",
      "Collecting astunparse==1.6.3\n",
      "  Using cached astunparse-1.6.3-py2.py3-none-any.whl (12 kB)\n",
      "Collecting google-pasta>=0.1.8\n",
      "  Using cached google_pasta-0.2.0-py3-none-any.whl (57 kB)\n",
      "Requirement already satisfied: grpcio>=1.8.6 in c:\\users\\vikee\\anaconda3\\lib\\site-packages (from tensorflow) (1.31.0)\n",
      "Requirement already satisfied: numpy<1.19.0,>=1.16.0 in c:\\users\\vikee\\anaconda3\\lib\\site-packages (from tensorflow) (1.18.5)\n",
      "Requirement already satisfied: protobuf>=3.9.2 in c:\\users\\vikee\\anaconda3\\lib\\site-packages (from tensorflow) (3.12.4)\n",
      "Collecting markdown>=2.6.8\n",
      "  Using cached Markdown-3.2.2-py3-none-any.whl (88 kB)\n",
      "Requirement already satisfied: tensorboard-plugin-wit>=1.6.0 in c:\\users\\vikee\\anaconda3\\lib\\site-packages (from tensorboard<3,>=2.3.0->tensorflow) (1.7.0)\n",
      "Requirement already satisfied: requests<3,>=2.21.0 in c:\\users\\vikee\\anaconda3\\lib\\site-packages (from tensorboard<3,>=2.3.0->tensorflow) (2.22.0)\n",
      "Requirement already satisfied: setuptools>=41.0.0 in c:\\users\\vikee\\anaconda3\\lib\\site-packages (from tensorboard<3,>=2.3.0->tensorflow) (45.2.0.post20200210)\n",
      "Requirement already satisfied: werkzeug>=0.11.15 in c:\\users\\vikee\\anaconda3\\lib\\site-packages (from tensorboard<3,>=2.3.0->tensorflow) (1.0.0)\n",
      "Collecting google-auth<2,>=1.6.3\n",
      "  Using cached google_auth-1.20.1-py2.py3-none-any.whl (91 kB)\n",
      "Collecting google-auth-oauthlib<0.5,>=0.4.1\n",
      "  Using cached google_auth_oauthlib-0.4.1-py2.py3-none-any.whl (18 kB)\n",
      "Requirement already satisfied: importlib-metadata; python_version < \"3.8\" in c:\\users\\vikee\\anaconda3\\lib\\site-packages (from markdown>=2.6.8->tensorboard<3,>=2.3.0->tensorflow) (1.5.0)\n",
      "Requirement already satisfied: certifi>=2017.4.17 in c:\\users\\vikee\\anaconda3\\lib\\site-packages (from requests<3,>=2.21.0->tensorboard<3,>=2.3.0->tensorflow) (2019.11.28)\n",
      "Requirement already satisfied: urllib3!=1.25.0,!=1.25.1,<1.26,>=1.21.1 in c:\\users\\vikee\\anaconda3\\lib\\site-packages (from requests<3,>=2.21.0->tensorboard<3,>=2.3.0->tensorflow) (1.25.8)\n",
      "Requirement already satisfied: chardet<3.1.0,>=3.0.2 in c:\\users\\vikee\\anaconda3\\lib\\site-packages (from requests<3,>=2.21.0->tensorboard<3,>=2.3.0->tensorflow) (3.0.4)\n",
      "Requirement already satisfied: idna<2.9,>=2.5 in c:\\users\\vikee\\anaconda3\\lib\\site-packages (from requests<3,>=2.21.0->tensorboard<3,>=2.3.0->tensorflow) (2.8)\n",
      "Collecting pyasn1-modules>=0.2.1\n",
      "  Using cached pyasn1_modules-0.2.8-py2.py3-none-any.whl (155 kB)\n",
      "Requirement already satisfied: cachetools<5.0,>=2.0.0 in c:\\users\\vikee\\anaconda3\\lib\\site-packages (from google-auth<2,>=1.6.3->tensorboard<3,>=2.3.0->tensorflow) (4.1.1)\n",
      "Collecting rsa<5,>=3.1.4; python_version >= \"3.5\"\n",
      "  Using cached rsa-4.6-py3-none-any.whl (47 kB)\n",
      "Collecting requests-oauthlib>=0.7.0\n",
      "  Using cached requests_oauthlib-1.3.0-py2.py3-none-any.whl (23 kB)\n",
      "Requirement already satisfied: zipp>=0.5 in c:\\users\\vikee\\anaconda3\\lib\\site-packages (from importlib-metadata; python_version < \"3.8\"->markdown>=2.6.8->tensorboard<3,>=2.3.0->tensorflow) (2.2.0)\n",
      "Collecting pyasn1<0.5.0,>=0.4.6\n",
      "  Using cached pyasn1-0.4.8-py2.py3-none-any.whl (77 kB)\n",
      "Collecting oauthlib>=3.0.0\n",
      "  Using cached oauthlib-3.1.0-py2.py3-none-any.whl (147 kB)\n",
      "Installing collected packages: termcolor, keras-preprocessing, markdown, absl-py, pyasn1, pyasn1-modules, rsa, google-auth, oauthlib, requests-oauthlib, google-auth-oauthlib, tensorboard, opt-einsum, tensorflow-estimator, astunparse, google-pasta, tensorflow\n",
      "Successfully installed absl-py-0.9.0 astunparse-1.6.3 google-auth-1.20.1 google-auth-oauthlib-0.4.1 google-pasta-0.2.0 keras-preprocessing-1.1.2 markdown-3.2.2 oauthlib-3.1.0 opt-einsum-3.3.0 pyasn1-0.4.8 pyasn1-modules-0.2.8 requests-oauthlib-1.3.0 rsa-4.6 tensorboard-2.3.0 tensorflow-2.3.0 tensorflow-estimator-2.3.0 termcolor-1.1.0\n",
      "Note: you may need to restart the kernel to use updated packages.\n"
     ]
    }
   ],
   "source": [
    "pip install tensorflow"
   ]
  },
  {
   "cell_type": "markdown",
   "metadata": {},
   "source": [
    "### Importing the libraries"
   ]
  },
  {
   "cell_type": "code",
   "execution_count": 2,
   "metadata": {
    "colab": {},
    "colab_type": "code",
    "id": "lxChR1Rk-umf"
   },
   "outputs": [],
   "source": [
    "import numpy as np\n",
    "import pandas as pd\n",
    "import tensorflow as tf"
   ]
  },
  {
   "cell_type": "code",
   "execution_count": 3,
   "metadata": {
    "colab": {
     "base_uri": "https://localhost:8080/",
     "height": 34
    },
    "colab_type": "code",
    "id": "uBTqR3nacj0e",
    "outputId": "4c0bd183-e424-429a-9fba-ceb841c06888"
   },
   "outputs": [
    {
     "data": {
      "text/plain": [
       "'2.3.0'"
      ]
     },
     "execution_count": 3,
     "metadata": {},
     "output_type": "execute_result"
    }
   ],
   "source": [
    "tf.__version__"
   ]
  },
  {
   "cell_type": "markdown",
   "metadata": {
    "colab_type": "text",
    "id": "AG3FQEch-yuA"
   },
   "source": [
    "## Part 1 - Data Preprocessing"
   ]
  },
  {
   "cell_type": "markdown",
   "metadata": {
    "colab_type": "text",
    "id": "-4zq8Mza_D9O"
   },
   "source": [
    "### Importing the dataset"
   ]
  },
  {
   "cell_type": "code",
   "execution_count": 4,
   "metadata": {
    "colab": {},
    "colab_type": "code",
    "id": "B9CV13Co_HHM"
   },
   "outputs": [],
   "source": [
    "dataset = pd.read_excel('Folds5x2_pp.xlsx')\n",
    "X = dataset.iloc[:, :-1].values\n",
    "y = dataset.iloc[:, -1].values"
   ]
  },
  {
   "cell_type": "markdown",
   "metadata": {
    "colab_type": "text",
    "id": "VC6omXel_Up0"
   },
   "source": [
    "### Splitting the dataset into the Training set and Test set"
   ]
  },
  {
   "cell_type": "code",
   "execution_count": 5,
   "metadata": {
    "colab": {},
    "colab_type": "code",
    "id": "L5edeb2r_agx"
   },
   "outputs": [],
   "source": [
    "from sklearn.model_selection import train_test_split\n",
    "X_train, X_test, y_train, y_test = train_test_split(X, y, test_size = 0.2, random_state = 0)"
   ]
  },
  {
   "cell_type": "markdown",
   "metadata": {
    "colab_type": "text",
    "id": "_mSLlAT9_eyI"
   },
   "source": [
    "## Part 2 - Building the ANN"
   ]
  },
  {
   "cell_type": "markdown",
   "metadata": {},
   "source": [
    "![alt text](aaaa.png \"Title\")"
   ]
  },
  {
   "cell_type": "markdown",
   "metadata": {
    "colab_type": "text",
    "id": "CsBULd_f_wLY"
   },
   "source": [
    "### Initializing the ANN"
   ]
  },
  {
   "cell_type": "code",
   "execution_count": 6,
   "metadata": {
    "colab": {},
    "colab_type": "code",
    "id": "J6Hd97Ls__Nz"
   },
   "outputs": [],
   "source": [
    "ann = tf.keras.models.Sequential()  #creating object of class sequential which builds ANN as sequential "
   ]
  },
  {
   "cell_type": "markdown",
   "metadata": {
    "colab_type": "text",
    "id": "iitAFJS_ABUn"
   },
   "source": [
    "### Adding the input layer and the first hidden layer"
   ]
  },
  {
   "cell_type": "code",
   "execution_count": 7,
   "metadata": {
    "colab": {},
    "colab_type": "code",
    "id": "ksO_Vv40AHix"
   },
   "outputs": [],
   "source": [
    "ann.add(tf.keras.layers.Dense(units=6, activation='relu')) # input features will be automatically collected by tensor neural network. so no need to mention input as 4"
   ]
  },
  {
   "cell_type": "markdown",
   "metadata": {
    "colab_type": "text",
    "id": "-lb4kK_wAKbs"
   },
   "source": [
    "### Adding the second hidden layer"
   ]
  },
  {
   "cell_type": "code",
   "execution_count": 8,
   "metadata": {
    "colab": {},
    "colab_type": "code",
    "id": "c2357OqEAQOQ"
   },
   "outputs": [],
   "source": [
    "ann.add(tf.keras.layers.Dense(units=6, activation='relu'))"
   ]
  },
  {
   "cell_type": "markdown",
   "metadata": {
    "colab_type": "text",
    "id": "jwMOmKb3AdBY"
   },
   "source": [
    "### Adding the output layer"
   ]
  },
  {
   "cell_type": "code",
   "execution_count": 9,
   "metadata": {
    "colab": {},
    "colab_type": "code",
    "id": "YFATpzsUAkLL"
   },
   "outputs": [],
   "source": [
    "ann.add(tf.keras.layers.Dense(units=1))"
   ]
  },
  {
   "cell_type": "code",
   "execution_count": 10,
   "metadata": {},
   "outputs": [],
   "source": [
    "# for regression, no activation function for o/p\n",
    "# for classification, if o/p is binary .i.e 2 classes , use sigmoid activation function\n",
    "# for classification, if o/p is more than 2 classes, use softmax activation function"
   ]
  },
  {
   "cell_type": "markdown",
   "metadata": {
    "colab_type": "text",
    "id": "fq7e4fF6A1yy"
   },
   "source": [
    "## Part 3 - Training the ANN"
   ]
  },
  {
   "cell_type": "markdown",
   "metadata": {
    "colab_type": "text",
    "id": "qDeylAs2An25"
   },
   "source": [
    "### Compiling the ANN"
   ]
  },
  {
   "cell_type": "code",
   "execution_count": 11,
   "metadata": {
    "colab": {},
    "colab_type": "code",
    "id": "pesgbWlCAtB4"
   },
   "outputs": [],
   "source": [
    "ann.compile(optimizer = 'adam', loss = 'mean_squared_error') "
   ]
  },
  {
   "cell_type": "markdown",
   "metadata": {
    "colab_type": "text",
    "id": "YjVuiybYOo7r"
   },
   "source": [
    "### Training the ANN model on the Training set"
   ]
  },
  {
   "cell_type": "code",
   "execution_count": 12,
   "metadata": {
    "colab": {
     "base_uri": "https://localhost:8080/",
     "height": 1000
    },
    "colab_type": "code",
    "id": "c_vV-tiiA5zn",
    "outputId": "4a2b6ee6-ed75-4698-9069-b250e613803f"
   },
   "outputs": [
    {
     "name": "stdout",
     "output_type": "stream",
     "text": [
      "Epoch 1/100\n",
      "240/240 [==============================] - 0s 918us/step - loss: 95606.3906\n",
      "Epoch 2/100\n",
      "240/240 [==============================] - 0s 972us/step - loss: 928.4041\n",
      "Epoch 3/100\n",
      "240/240 [==============================] - 0s 1ms/step - loss: 266.5452\n",
      "Epoch 4/100\n",
      "240/240 [==============================] - 0s 1ms/step - loss: 262.0111\n",
      "Epoch 5/100\n",
      "240/240 [==============================] - 0s 1ms/step - loss: 256.5410\n",
      "Epoch 6/100\n",
      "240/240 [==============================] - 0s 1ms/step - loss: 250.1113\n",
      "Epoch 7/100\n",
      "240/240 [==============================] - 0s 1ms/step - loss: 243.1548\n",
      "Epoch 8/100\n",
      "240/240 [==============================] - 0s 972us/step - loss: 234.9004\n",
      "Epoch 9/100\n",
      "240/240 [==============================] - 0s 1ms/step - loss: 226.3195\n",
      "Epoch 10/100\n",
      "240/240 [==============================] - 0s 993us/step - loss: 217.0198\n",
      "Epoch 11/100\n",
      "240/240 [==============================] - 0s 1ms/step - loss: 206.8038\n",
      "Epoch 12/100\n",
      "240/240 [==============================] - 0s 1ms/step - loss: 196.2168\n",
      "Epoch 13/100\n",
      "240/240 [==============================] - 0s 1ms/step - loss: 184.9926\n",
      "Epoch 14/100\n",
      "240/240 [==============================] - 0s 1ms/step - loss: 174.0539\n",
      "Epoch 15/100\n",
      "240/240 [==============================] - 0s 1ms/step - loss: 162.4826\n",
      "Epoch 16/100\n",
      "240/240 [==============================] - 0s 1ms/step - loss: 150.7125\n",
      "Epoch 17/100\n",
      "240/240 [==============================] - 0s 1ms/step - loss: 139.0396\n",
      "Epoch 18/100\n",
      "240/240 [==============================] - 0s 972us/step - loss: 127.8306\n",
      "Epoch 19/100\n",
      "240/240 [==============================] - 0s 1ms/step - loss: 117.5230\n",
      "Epoch 20/100\n",
      "240/240 [==============================] - 0s 1ms/step - loss: 107.3967\n",
      "Epoch 21/100\n",
      "240/240 [==============================] - 0s 1ms/step - loss: 98.2292\n",
      "Epoch 22/100\n",
      "240/240 [==============================] - 0s 1ms/step - loss: 88.7063\n",
      "Epoch 23/100\n",
      "240/240 [==============================] - 0s 1ms/step - loss: 80.3856\n",
      "Epoch 24/100\n",
      "240/240 [==============================] - 0s 1ms/step - loss: 73.1706\n",
      "Epoch 25/100\n",
      "240/240 [==============================] - 0s 1ms/step - loss: 66.3624\n",
      "Epoch 26/100\n",
      "240/240 [==============================] - 0s 985us/step - loss: 60.0557\n",
      "Epoch 27/100\n",
      "240/240 [==============================] - 0s 1ms/step - loss: 55.0839\n",
      "Epoch 28/100\n",
      "240/240 [==============================] - 0s 1ms/step - loss: 50.4343\n",
      "Epoch 29/100\n",
      "240/240 [==============================] - 0s 1ms/step - loss: 46.2326\n",
      "Epoch 30/100\n",
      "240/240 [==============================] - 0s 1ms/step - loss: 42.7285\n",
      "Epoch 31/100\n",
      "240/240 [==============================] - 0s 1ms/step - loss: 39.6764\n",
      "Epoch 32/100\n",
      "240/240 [==============================] - 0s 1ms/step - loss: 37.4251\n",
      "Epoch 33/100\n",
      "240/240 [==============================] - 0s 1ms/step - loss: 35.7860\n",
      "Epoch 34/100\n",
      "240/240 [==============================] - 0s 1ms/step - loss: 34.1903\n",
      "Epoch 35/100\n",
      "240/240 [==============================] - 0s 997us/step - loss: 33.2058\n",
      "Epoch 36/100\n",
      "240/240 [==============================] - 0s 1ms/step - loss: 32.1029\n",
      "Epoch 37/100\n",
      "240/240 [==============================] - 0s 1ms/step - loss: 32.0722\n",
      "Epoch 38/100\n",
      "240/240 [==============================] - 0s 989us/step - loss: 31.5941\n",
      "Epoch 39/100\n",
      "240/240 [==============================] - 0s 989us/step - loss: 30.5007\n",
      "Epoch 40/100\n",
      "240/240 [==============================] - 0s 1ms/step - loss: 30.3767\n",
      "Epoch 41/100\n",
      "240/240 [==============================] - 0s 1ms/step - loss: 30.0083\n",
      "Epoch 42/100\n",
      "240/240 [==============================] - 0s 1ms/step - loss: 29.6389\n",
      "Epoch 43/100\n",
      "240/240 [==============================] - 0s 1ms/step - loss: 29.6996\n",
      "Epoch 44/100\n",
      "240/240 [==============================] - 0s 1ms/step - loss: 29.2065\n",
      "Epoch 45/100\n",
      "240/240 [==============================] - 0s 1ms/step - loss: 28.8225\n",
      "Epoch 46/100\n",
      "240/240 [==============================] - 0s 1ms/step - loss: 28.5971\n",
      "Epoch 47/100\n",
      "240/240 [==============================] - 0s 1ms/step - loss: 28.9144\n",
      "Epoch 48/100\n",
      "240/240 [==============================] - 0s 1ms/step - loss: 28.1010\n",
      "Epoch 49/100\n",
      "240/240 [==============================] - 0s 1ms/step - loss: 28.2404\n",
      "Epoch 50/100\n",
      "240/240 [==============================] - 0s 1ms/step - loss: 27.9659\n",
      "Epoch 51/100\n",
      "240/240 [==============================] - 0s 1ms/step - loss: 27.7758: 0s - loss: 2\n",
      "Epoch 52/100\n",
      "240/240 [==============================] - 0s 1ms/step - loss: 27.9536\n",
      "Epoch 53/100\n",
      "240/240 [==============================] - 0s 1ms/step - loss: 27.5880\n",
      "Epoch 54/100\n",
      "240/240 [==============================] - 0s 1ms/step - loss: 27.6329\n",
      "Epoch 55/100\n",
      "240/240 [==============================] - 0s 1ms/step - loss: 27.3405\n",
      "Epoch 56/100\n",
      "240/240 [==============================] - 0s 1ms/step - loss: 27.2427\n",
      "Epoch 57/100\n",
      "240/240 [==============================] - 0s 1ms/step - loss: 27.2709\n",
      "Epoch 58/100\n",
      "240/240 [==============================] - 0s 1ms/step - loss: 27.3326\n",
      "Epoch 59/100\n",
      "240/240 [==============================] - 0s 1ms/step - loss: 27.2766\n",
      "Epoch 60/100\n",
      "240/240 [==============================] - 0s 1ms/step - loss: 28.0080\n",
      "Epoch 61/100\n",
      "240/240 [==============================] - 0s 1ms/step - loss: 27.6364\n",
      "Epoch 62/100\n",
      "240/240 [==============================] - 0s 1ms/step - loss: 27.1016\n",
      "Epoch 63/100\n",
      "240/240 [==============================] - 0s 1ms/step - loss: 26.7547\n",
      "Epoch 64/100\n",
      "240/240 [==============================] - 0s 1ms/step - loss: 27.1198\n",
      "Epoch 65/100\n",
      "240/240 [==============================] - 0s 1ms/step - loss: 26.9461\n",
      "Epoch 66/100\n",
      "240/240 [==============================] - 0s 1ms/step - loss: 26.7717\n",
      "Epoch 67/100\n",
      "240/240 [==============================] - 0s 1ms/step - loss: 26.6382\n",
      "Epoch 68/100\n",
      "240/240 [==============================] - 0s 1ms/step - loss: 27.3513\n",
      "Epoch 69/100\n",
      "240/240 [==============================] - 0s 1ms/step - loss: 26.6860\n",
      "Epoch 70/100\n",
      "240/240 [==============================] - 0s 1ms/step - loss: 26.6973\n",
      "Epoch 71/100\n",
      "240/240 [==============================] - 0s 1ms/step - loss: 26.7896\n",
      "Epoch 72/100\n",
      "240/240 [==============================] - 0s 1ms/step - loss: 26.5415\n",
      "Epoch 73/100\n",
      "240/240 [==============================] - 0s 1ms/step - loss: 26.4650\n",
      "Epoch 74/100\n",
      "240/240 [==============================] - 0s 1ms/step - loss: 26.7615\n",
      "Epoch 75/100\n",
      "240/240 [==============================] - 0s 1ms/step - loss: 27.2386\n",
      "Epoch 76/100\n",
      "240/240 [==============================] - 0s 1ms/step - loss: 26.8361\n",
      "Epoch 77/100\n",
      "240/240 [==============================] - 0s 1ms/step - loss: 26.6315\n",
      "Epoch 78/100\n",
      "240/240 [==============================] - 0s 1ms/step - loss: 26.7816\n",
      "Epoch 79/100\n",
      "240/240 [==============================] - 0s 1ms/step - loss: 26.4972\n",
      "Epoch 80/100\n",
      "240/240 [==============================] - 0s 1ms/step - loss: 27.1706\n",
      "Epoch 81/100\n",
      "240/240 [==============================] - 0s 1ms/step - loss: 26.7638\n",
      "Epoch 82/100\n",
      "240/240 [==============================] - 0s 1ms/step - loss: 27.1141\n",
      "Epoch 83/100\n",
      "240/240 [==============================] - 0s 1ms/step - loss: 26.5167\n",
      "Epoch 84/100\n",
      "240/240 [==============================] - 0s 1ms/step - loss: 26.4232\n",
      "Epoch 85/100\n",
      "240/240 [==============================] - 0s 1ms/step - loss: 26.4740\n",
      "Epoch 86/100\n",
      "240/240 [==============================] - 0s 1ms/step - loss: 26.6415\n",
      "Epoch 87/100\n",
      "240/240 [==============================] - 0s 1ms/step - loss: 26.4172\n",
      "Epoch 88/100\n",
      "240/240 [==============================] - ETA: 0s - loss: 26.83 - 0s 1ms/step - loss: 26.6182\n",
      "Epoch 89/100\n",
      "240/240 [==============================] - 0s 1ms/step - loss: 26.6064\n",
      "Epoch 90/100\n",
      "240/240 [==============================] - 0s 1ms/step - loss: 26.6415\n",
      "Epoch 91/100\n",
      "240/240 [==============================] - 0s 1ms/step - loss: 26.8097\n",
      "Epoch 92/100\n",
      "240/240 [==============================] - 0s 1ms/step - loss: 26.9669\n",
      "Epoch 93/100\n",
      "240/240 [==============================] - 0s 1ms/step - loss: 26.5549\n",
      "Epoch 94/100\n",
      "240/240 [==============================] - 0s 1ms/step - loss: 26.4267\n",
      "Epoch 95/100\n",
      "240/240 [==============================] - 0s 1ms/step - loss: 26.8150\n",
      "Epoch 96/100\n",
      "240/240 [==============================] - 0s 1ms/step - loss: 26.6702\n",
      "Epoch 97/100\n"
     ]
    },
    {
     "name": "stdout",
     "output_type": "stream",
     "text": [
      "240/240 [==============================] - 0s 1ms/step - loss: 26.6820\n",
      "Epoch 98/100\n",
      "240/240 [==============================] - 0s 1ms/step - loss: 26.3665\n",
      "Epoch 99/100\n",
      "240/240 [==============================] - 0s 927us/step - loss: 26.6881\n",
      "Epoch 100/100\n",
      "240/240 [==============================] - 0s 960us/step - loss: 26.7354\n"
     ]
    },
    {
     "data": {
      "text/plain": [
       "<tensorflow.python.keras.callbacks.History at 0x1cb8c8bb3c8>"
      ]
     },
     "execution_count": 12,
     "metadata": {},
     "output_type": "execute_result"
    }
   ],
   "source": [
    "ann.fit(X_train, y_train, batch_size = 32, epochs = 100)"
   ]
  },
  {
   "cell_type": "markdown",
   "metadata": {
    "colab_type": "text",
    "id": "0H0zKKNEBLD5"
   },
   "source": [
    "### Predicting the results of the Test set"
   ]
  },
  {
   "cell_type": "code",
   "execution_count": 13,
   "metadata": {
    "colab": {
     "base_uri": "https://localhost:8080/",
     "height": 134
    },
    "colab_type": "code",
    "id": "IA0yApEmBG1X",
    "outputId": "cb981e1f-9204-4a2a-fece-9d66a6919189"
   },
   "outputs": [
    {
     "name": "stdout",
     "output_type": "stream",
     "text": [
      "[[432.34 431.23]\n",
      " [463.59 460.01]\n",
      " [467.17 461.14]\n",
      " ...\n",
      " [474.3  473.26]\n",
      " [441.17 438.  ]\n",
      " [460.36 463.28]]\n"
     ]
    }
   ],
   "source": [
    "y_pred = ann.predict(X_test)\n",
    "np.set_printoptions(precision=2)\n",
    "print(np.concatenate((y_pred.reshape(len(y_pred),1), y_test.reshape(len(y_test),1)),1))"
   ]
  }
 ],
 "metadata": {
  "colab": {
   "collapsed_sections": [],
   "name": "Artificial Neural Network",
   "provenance": [],
   "toc_visible": true
  },
  "kernelspec": {
   "display_name": "Python 3",
   "language": "python",
   "name": "python3"
  },
  "language_info": {
   "codemirror_mode": {
    "name": "ipython",
    "version": 3
   },
   "file_extension": ".py",
   "mimetype": "text/x-python",
   "name": "python",
   "nbconvert_exporter": "python",
   "pygments_lexer": "ipython3",
   "version": "3.7.6"
  }
 },
 "nbformat": 4,
 "nbformat_minor": 1
}
